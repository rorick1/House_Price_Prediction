{
  "nbformat": 4,
  "nbformat_minor": 0,
  "metadata": {
    "colab": {
      "name": "House_Price_Prediction.ipynb",
      "provenance": [],
      "collapsed_sections": []
    },
    "kernelspec": {
      "name": "python3",
      "display_name": "Python 3"
    },
    "language_info": {
      "name": "python"
    }
  },
  "cells": [
    {
      "cell_type": "markdown",
      "source": [
        "### Importing necessary libraries"
      ],
      "metadata": {
        "id": "pRK9elAqrHpC"
      }
    },
    {
      "cell_type": "code",
      "metadata": {
        "id": "xHE8tDQeYDQZ"
      },
      "source": [
        "import pandas as pd\n",
        "import seaborn as sns \n",
        "import numpy as np\n",
        "import matplotlib.pyplot as plt\n"
      ],
      "execution_count": 1,
      "outputs": []
    },
    {
      "cell_type": "markdown",
      "source": [
        "### Loading the data set"
      ],
      "metadata": {
        "id": "UDyqUDOFrNk8"
      }
    },
    {
      "cell_type": "code",
      "metadata": {
        "id": "jqQ8PijyYPvq"
      },
      "source": [
        "df=pd.read_csv('kc_house_data.csv')"
      ],
      "execution_count": 2,
      "outputs": []
    },
    {
      "cell_type": "code",
      "metadata": {
        "colab": {
          "base_uri": "https://localhost:8080/",
          "height": 270
        },
        "id": "AMwo3H7WYkFm",
        "outputId": "bff11088-b78b-4615-e3ef-081e9e0e4106"
      },
      "source": [
        "df.head()"
      ],
      "execution_count": 3,
      "outputs": [
        {
          "output_type": "execute_result",
          "data": {
            "text/html": [
              "\n",
              "  <div id=\"df-07045bdd-8583-48e5-8def-32e07e80edca\">\n",
              "    <div class=\"colab-df-container\">\n",
              "      <div>\n",
              "<style scoped>\n",
              "    .dataframe tbody tr th:only-of-type {\n",
              "        vertical-align: middle;\n",
              "    }\n",
              "\n",
              "    .dataframe tbody tr th {\n",
              "        vertical-align: top;\n",
              "    }\n",
              "\n",
              "    .dataframe thead th {\n",
              "        text-align: right;\n",
              "    }\n",
              "</style>\n",
              "<table border=\"1\" class=\"dataframe\">\n",
              "  <thead>\n",
              "    <tr style=\"text-align: right;\">\n",
              "      <th></th>\n",
              "      <th>id</th>\n",
              "      <th>date</th>\n",
              "      <th>price</th>\n",
              "      <th>bedrooms</th>\n",
              "      <th>bathrooms</th>\n",
              "      <th>sqft_living</th>\n",
              "      <th>sqft_lot</th>\n",
              "      <th>floors</th>\n",
              "      <th>waterfront</th>\n",
              "      <th>view</th>\n",
              "      <th>condition</th>\n",
              "      <th>grade</th>\n",
              "      <th>sqft_above</th>\n",
              "      <th>sqft_basement</th>\n",
              "      <th>yr_built</th>\n",
              "      <th>yr_renovated</th>\n",
              "      <th>zipcode</th>\n",
              "      <th>lat</th>\n",
              "      <th>long</th>\n",
              "      <th>sqft_living15</th>\n",
              "      <th>sqft_lot15</th>\n",
              "    </tr>\n",
              "  </thead>\n",
              "  <tbody>\n",
              "    <tr>\n",
              "      <th>0</th>\n",
              "      <td>7129300520</td>\n",
              "      <td>10/13/2014</td>\n",
              "      <td>221900.0</td>\n",
              "      <td>3</td>\n",
              "      <td>1.00</td>\n",
              "      <td>1180</td>\n",
              "      <td>5650</td>\n",
              "      <td>1.0</td>\n",
              "      <td>0</td>\n",
              "      <td>0</td>\n",
              "      <td>3</td>\n",
              "      <td>7</td>\n",
              "      <td>1180</td>\n",
              "      <td>0</td>\n",
              "      <td>1955</td>\n",
              "      <td>0</td>\n",
              "      <td>98178</td>\n",
              "      <td>47.5112</td>\n",
              "      <td>-122.257</td>\n",
              "      <td>1340</td>\n",
              "      <td>5650</td>\n",
              "    </tr>\n",
              "    <tr>\n",
              "      <th>1</th>\n",
              "      <td>6414100192</td>\n",
              "      <td>12/9/2014</td>\n",
              "      <td>538000.0</td>\n",
              "      <td>3</td>\n",
              "      <td>2.25</td>\n",
              "      <td>2570</td>\n",
              "      <td>7242</td>\n",
              "      <td>2.0</td>\n",
              "      <td>0</td>\n",
              "      <td>0</td>\n",
              "      <td>3</td>\n",
              "      <td>7</td>\n",
              "      <td>2170</td>\n",
              "      <td>400</td>\n",
              "      <td>1951</td>\n",
              "      <td>1991</td>\n",
              "      <td>98125</td>\n",
              "      <td>47.7210</td>\n",
              "      <td>-122.319</td>\n",
              "      <td>1690</td>\n",
              "      <td>7639</td>\n",
              "    </tr>\n",
              "    <tr>\n",
              "      <th>2</th>\n",
              "      <td>5631500400</td>\n",
              "      <td>2/25/2015</td>\n",
              "      <td>180000.0</td>\n",
              "      <td>2</td>\n",
              "      <td>1.00</td>\n",
              "      <td>770</td>\n",
              "      <td>10000</td>\n",
              "      <td>1.0</td>\n",
              "      <td>0</td>\n",
              "      <td>0</td>\n",
              "      <td>3</td>\n",
              "      <td>6</td>\n",
              "      <td>770</td>\n",
              "      <td>0</td>\n",
              "      <td>1933</td>\n",
              "      <td>0</td>\n",
              "      <td>98028</td>\n",
              "      <td>47.7379</td>\n",
              "      <td>-122.233</td>\n",
              "      <td>2720</td>\n",
              "      <td>8062</td>\n",
              "    </tr>\n",
              "    <tr>\n",
              "      <th>3</th>\n",
              "      <td>2487200875</td>\n",
              "      <td>12/9/2014</td>\n",
              "      <td>604000.0</td>\n",
              "      <td>4</td>\n",
              "      <td>3.00</td>\n",
              "      <td>1960</td>\n",
              "      <td>5000</td>\n",
              "      <td>1.0</td>\n",
              "      <td>0</td>\n",
              "      <td>0</td>\n",
              "      <td>5</td>\n",
              "      <td>7</td>\n",
              "      <td>1050</td>\n",
              "      <td>910</td>\n",
              "      <td>1965</td>\n",
              "      <td>0</td>\n",
              "      <td>98136</td>\n",
              "      <td>47.5208</td>\n",
              "      <td>-122.393</td>\n",
              "      <td>1360</td>\n",
              "      <td>5000</td>\n",
              "    </tr>\n",
              "    <tr>\n",
              "      <th>4</th>\n",
              "      <td>1954400510</td>\n",
              "      <td>2/18/2015</td>\n",
              "      <td>510000.0</td>\n",
              "      <td>3</td>\n",
              "      <td>2.00</td>\n",
              "      <td>1680</td>\n",
              "      <td>8080</td>\n",
              "      <td>1.0</td>\n",
              "      <td>0</td>\n",
              "      <td>0</td>\n",
              "      <td>3</td>\n",
              "      <td>8</td>\n",
              "      <td>1680</td>\n",
              "      <td>0</td>\n",
              "      <td>1987</td>\n",
              "      <td>0</td>\n",
              "      <td>98074</td>\n",
              "      <td>47.6168</td>\n",
              "      <td>-122.045</td>\n",
              "      <td>1800</td>\n",
              "      <td>7503</td>\n",
              "    </tr>\n",
              "  </tbody>\n",
              "</table>\n",
              "</div>\n",
              "      <button class=\"colab-df-convert\" onclick=\"convertToInteractive('df-07045bdd-8583-48e5-8def-32e07e80edca')\"\n",
              "              title=\"Convert this dataframe to an interactive table.\"\n",
              "              style=\"display:none;\">\n",
              "        \n",
              "  <svg xmlns=\"http://www.w3.org/2000/svg\" height=\"24px\"viewBox=\"0 0 24 24\"\n",
              "       width=\"24px\">\n",
              "    <path d=\"M0 0h24v24H0V0z\" fill=\"none\"/>\n",
              "    <path d=\"M18.56 5.44l.94 2.06.94-2.06 2.06-.94-2.06-.94-.94-2.06-.94 2.06-2.06.94zm-11 1L8.5 8.5l.94-2.06 2.06-.94-2.06-.94L8.5 2.5l-.94 2.06-2.06.94zm10 10l.94 2.06.94-2.06 2.06-.94-2.06-.94-.94-2.06-.94 2.06-2.06.94z\"/><path d=\"M17.41 7.96l-1.37-1.37c-.4-.4-.92-.59-1.43-.59-.52 0-1.04.2-1.43.59L10.3 9.45l-7.72 7.72c-.78.78-.78 2.05 0 2.83L4 21.41c.39.39.9.59 1.41.59.51 0 1.02-.2 1.41-.59l7.78-7.78 2.81-2.81c.8-.78.8-2.07 0-2.86zM5.41 20L4 18.59l7.72-7.72 1.47 1.35L5.41 20z\"/>\n",
              "  </svg>\n",
              "      </button>\n",
              "      \n",
              "  <style>\n",
              "    .colab-df-container {\n",
              "      display:flex;\n",
              "      flex-wrap:wrap;\n",
              "      gap: 12px;\n",
              "    }\n",
              "\n",
              "    .colab-df-convert {\n",
              "      background-color: #E8F0FE;\n",
              "      border: none;\n",
              "      border-radius: 50%;\n",
              "      cursor: pointer;\n",
              "      display: none;\n",
              "      fill: #1967D2;\n",
              "      height: 32px;\n",
              "      padding: 0 0 0 0;\n",
              "      width: 32px;\n",
              "    }\n",
              "\n",
              "    .colab-df-convert:hover {\n",
              "      background-color: #E2EBFA;\n",
              "      box-shadow: 0px 1px 2px rgba(60, 64, 67, 0.3), 0px 1px 3px 1px rgba(60, 64, 67, 0.15);\n",
              "      fill: #174EA6;\n",
              "    }\n",
              "\n",
              "    [theme=dark] .colab-df-convert {\n",
              "      background-color: #3B4455;\n",
              "      fill: #D2E3FC;\n",
              "    }\n",
              "\n",
              "    [theme=dark] .colab-df-convert:hover {\n",
              "      background-color: #434B5C;\n",
              "      box-shadow: 0px 1px 3px 1px rgba(0, 0, 0, 0.15);\n",
              "      filter: drop-shadow(0px 1px 2px rgba(0, 0, 0, 0.3));\n",
              "      fill: #FFFFFF;\n",
              "    }\n",
              "  </style>\n",
              "\n",
              "      <script>\n",
              "        const buttonEl =\n",
              "          document.querySelector('#df-07045bdd-8583-48e5-8def-32e07e80edca button.colab-df-convert');\n",
              "        buttonEl.style.display =\n",
              "          google.colab.kernel.accessAllowed ? 'block' : 'none';\n",
              "\n",
              "        async function convertToInteractive(key) {\n",
              "          const element = document.querySelector('#df-07045bdd-8583-48e5-8def-32e07e80edca');\n",
              "          const dataTable =\n",
              "            await google.colab.kernel.invokeFunction('convertToInteractive',\n",
              "                                                     [key], {});\n",
              "          if (!dataTable) return;\n",
              "\n",
              "          const docLinkHtml = 'Like what you see? Visit the ' +\n",
              "            '<a target=\"_blank\" href=https://colab.research.google.com/notebooks/data_table.ipynb>data table notebook</a>'\n",
              "            + ' to learn more about interactive tables.';\n",
              "          element.innerHTML = '';\n",
              "          dataTable['output_type'] = 'display_data';\n",
              "          await google.colab.output.renderOutput(dataTable, element);\n",
              "          const docLink = document.createElement('div');\n",
              "          docLink.innerHTML = docLinkHtml;\n",
              "          element.appendChild(docLink);\n",
              "        }\n",
              "      </script>\n",
              "    </div>\n",
              "  </div>\n",
              "  "
            ],
            "text/plain": [
              "           id        date     price  ...     long  sqft_living15  sqft_lot15\n",
              "0  7129300520  10/13/2014  221900.0  ... -122.257           1340        5650\n",
              "1  6414100192   12/9/2014  538000.0  ... -122.319           1690        7639\n",
              "2  5631500400   2/25/2015  180000.0  ... -122.233           2720        8062\n",
              "3  2487200875   12/9/2014  604000.0  ... -122.393           1360        5000\n",
              "4  1954400510   2/18/2015  510000.0  ... -122.045           1800        7503\n",
              "\n",
              "[5 rows x 21 columns]"
            ]
          },
          "metadata": {},
          "execution_count": 3
        }
      ]
    },
    {
      "cell_type": "code",
      "metadata": {
        "id": "UjYRdUDhYllR"
      },
      "source": [
        "df['date']=pd.to_datetime(df['date']) # this is done to make date a timestamp object rather than a string object"
      ],
      "execution_count": 4,
      "outputs": []
    },
    {
      "cell_type": "markdown",
      "source": [
        "### Feature extraction "
      ],
      "metadata": {
        "id": "AMba-jxqrjDt"
      }
    },
    {
      "cell_type": "code",
      "metadata": {
        "id": "uzDHOjl3YsTJ"
      },
      "source": [
        "df['year']=df['date'].apply(lambda date: date.year)   \n",
        "# The above steps is done for feature extraction of the year and month from the year object\n",
        "df['month']=df['date'].apply(lambda date: date.month)\n"
      ],
      "execution_count": 5,
      "outputs": []
    },
    {
      "cell_type": "markdown",
      "source": [
        "### Dropping unnecessary columns( As they won't influence the prediction)\n",
        "\n",
        "\n",
        "\n"
      ],
      "metadata": {
        "id": "wcFaUeT7roPU"
      }
    },
    {
      "cell_type": "code",
      "metadata": {
        "id": "msSGh6s6ZW6r"
      },
      "source": [
        "X=df.drop('id',axis='columns')\n",
        "# This and the following 3 steps are done so that unnessary columns are dropped"
      ],
      "execution_count": 6,
      "outputs": []
    },
    {
      "cell_type": "code",
      "metadata": {
        "id": "_NNAwxXKZYhq"
      },
      "source": [
        "X=X.drop('date',axis='columns')\n"
      ],
      "execution_count": 7,
      "outputs": []
    },
    {
      "cell_type": "code",
      "metadata": {
        "id": "IqTHrWSLaflC"
      },
      "source": [
        "X=X.drop('zipcode',axis=1)\n"
      ],
      "execution_count": 8,
      "outputs": []
    },
    {
      "cell_type": "code",
      "metadata": {
        "id": "-g0mctf9avLN",
        "colab": {
          "base_uri": "https://localhost:8080/"
        },
        "outputId": "ab3e4a6a-48dc-44fa-e105-89c65382922d"
      },
      "source": [
        "X=X.drop('price',axis=1)\n",
        "X=X.values\n",
        "X # Since a tensor flow model takes only matrix, the dataframe is converted to np array in this step"
      ],
      "execution_count": 9,
      "outputs": [
        {
          "output_type": "execute_result",
          "data": {
            "text/plain": [
              "array([[3.000e+00, 1.000e+00, 1.180e+03, ..., 5.650e+03, 2.014e+03,\n",
              "        1.000e+01],\n",
              "       [3.000e+00, 2.250e+00, 2.570e+03, ..., 7.639e+03, 2.014e+03,\n",
              "        1.200e+01],\n",
              "       [2.000e+00, 1.000e+00, 7.700e+02, ..., 8.062e+03, 2.015e+03,\n",
              "        2.000e+00],\n",
              "       ...,\n",
              "       [2.000e+00, 7.500e-01, 1.020e+03, ..., 2.007e+03, 2.014e+03,\n",
              "        6.000e+00],\n",
              "       [3.000e+00, 2.500e+00, 1.600e+03, ..., 1.287e+03, 2.015e+03,\n",
              "        1.000e+00],\n",
              "       [2.000e+00, 7.500e-01, 1.020e+03, ..., 1.357e+03, 2.014e+03,\n",
              "        1.000e+01]])"
            ]
          },
          "metadata": {},
          "execution_count": 9
        }
      ]
    },
    {
      "cell_type": "code",
      "metadata": {
        "id": "YIoRz9bgawcZ",
        "colab": {
          "base_uri": "https://localhost:8080/"
        },
        "outputId": "f0113471-2ae5-472d-e62b-f682b7e848c3"
      },
      "source": [
        "y=df['price'].values\n",
        "y # y values of the dataframe is converted to np array\n"
      ],
      "execution_count": 10,
      "outputs": [
        {
          "output_type": "execute_result",
          "data": {
            "text/plain": [
              "array([221900., 538000., 180000., ..., 402101., 400000., 325000.])"
            ]
          },
          "metadata": {},
          "execution_count": 10
        }
      ]
    },
    {
      "cell_type": "markdown",
      "source": [
        "### Splitting the data into training and test data"
      ],
      "metadata": {
        "id": "Lt7XZGmIr-gu"
      }
    },
    {
      "cell_type": "code",
      "metadata": {
        "id": "S9_Ejy-xaxXS"
      },
      "source": [
        "from sklearn.model_selection import train_test_split\n",
        "X_train,X_test,y_train,y_test=train_test_split(X,y,test_size=0.3,random_state=101)  \n",
        "# This is famous train test split"
      ],
      "execution_count": 11,
      "outputs": []
    },
    {
      "cell_type": "code",
      "metadata": {
        "colab": {
          "base_uri": "https://localhost:8080/"
        },
        "id": "Y3ijiQMqbihV",
        "outputId": "f2178357-83af-47bd-e3ea-dd5b08493639"
      },
      "source": [
        "X_train"
      ],
      "execution_count": 12,
      "outputs": [
        {
          "output_type": "execute_result",
          "data": {
            "text/plain": [
              "array([[4.0000e+00, 1.0000e+00, 2.2900e+03, ..., 6.3000e+03, 2.0140e+03,\n",
              "        9.0000e+00],\n",
              "       [3.0000e+00, 2.2500e+00, 1.6300e+03, ..., 3.1310e+03, 2.0140e+03,\n",
              "        6.0000e+00],\n",
              "       [4.0000e+00, 3.5000e+00, 2.8500e+03, ..., 5.7080e+03, 2.0150e+03,\n",
              "        5.0000e+00],\n",
              "       ...,\n",
              "       [2.0000e+00, 1.7500e+00, 1.8000e+03, ..., 7.4000e+03, 2.0150e+03,\n",
              "        4.0000e+00],\n",
              "       [3.0000e+00, 2.0000e+00, 1.5000e+03, ..., 1.4013e+04, 2.0150e+03,\n",
              "        4.0000e+00],\n",
              "       [2.0000e+00, 1.0000e+00, 1.1600e+03, ..., 5.0760e+03, 2.0150e+03,\n",
              "        1.0000e+00]])"
            ]
          },
          "metadata": {},
          "execution_count": 12
        }
      ]
    },
    {
      "cell_type": "markdown",
      "source": [
        "### Normalising the data between 0 and 1 (So that learning can be sped up)"
      ],
      "metadata": {
        "id": "q-9HrIjwsGkM"
      }
    },
    {
      "cell_type": "code",
      "metadata": {
        "id": "wvuYvFoeb3HP"
      },
      "source": [
        "from sklearn.preprocessing import MinMaxScaler\n",
        "scaler=MinMaxScaler() \n",
        "# we would train our model on normalised data between 0 and 1 and that is why this is done"
      ],
      "execution_count": 13,
      "outputs": []
    },
    {
      "cell_type": "code",
      "metadata": {
        "id": "_S5ZBbkGcFAM"
      },
      "source": [
        "X_train=scaler.fit_transform(X_train)\n"
      ],
      "execution_count": 14,
      "outputs": []
    },
    {
      "cell_type": "code",
      "metadata": {
        "id": "FSVTpIfOcLIs"
      },
      "source": [
        "X_test=scaler.transform(X_test)"
      ],
      "execution_count": 15,
      "outputs": []
    },
    {
      "cell_type": "code",
      "metadata": {
        "id": "desZ327ucR8h"
      },
      "source": [
        "from tensorflow.keras.models import Sequential\n",
        "from tensorflow.keras.layers import Dense\n",
        "model=Sequential() #model reference is created"
      ],
      "execution_count": 16,
      "outputs": []
    },
    {
      "cell_type": "markdown",
      "source": [
        "### Creating a model with 5 layers and rectified linear unit activation function"
      ],
      "metadata": {
        "id": "lzKyIrD5sXAU"
      }
    },
    {
      "cell_type": "code",
      "metadata": {
        "id": "hHqSqB3dgzoZ"
      },
      "source": [
        "model.add(Dense(19,activation='linear'))\n",
        "model.add(Dense(30,activation='linear'))\n",
        "model.add(Dense(30,activation='linear'))\n",
        "model.add(Dense(30,activation='relu'))   # model is created with no of layer and optimizer defined\n",
        "model.add(Dense(1))\n",
        "model.compile(optimizer='adam',loss='mse') "
      ],
      "execution_count": 17,
      "outputs": []
    },
    {
      "cell_type": "markdown",
      "source": [
        "### Training and fitting the model on the data "
      ],
      "metadata": {
        "id": "bEDDdd1csrHp"
      }
    },
    {
      "cell_type": "code",
      "metadata": {
        "colab": {
          "base_uri": "https://localhost:8080/"
        },
        "id": "urvJ-SWYhwz5",
        "outputId": "8254bdf9-4c5b-4951-93e8-a0eff4179ab3"
      },
      "source": [
        "model.fit(x=X_train,y=y_train,validation_data=(X_test,y_test),batch_size=128,epochs=800) # this is done so that loss function on test data is evaluated all along"
      ],
      "execution_count": 18,
      "outputs": [
        {
          "output_type": "stream",
          "name": "stdout",
          "text": [
            "Epoch 1/400\n",
            "473/473 [==============================] - 2s 3ms/step - loss: 393676.5625 - val_loss: 180200.7969\n",
            "Epoch 2/400\n",
            "473/473 [==============================] - 1s 2ms/step - loss: 179858.3594 - val_loss: 169832.2031\n",
            "Epoch 3/400\n",
            "473/473 [==============================] - 2s 4ms/step - loss: 168702.3125 - val_loss: 158307.2656\n",
            "Epoch 4/400\n",
            "473/473 [==============================] - 2s 4ms/step - loss: 155801.5938 - val_loss: 143583.2188\n",
            "Epoch 5/400\n",
            "473/473 [==============================] - 2s 5ms/step - loss: 140922.8438 - val_loss: 129595.1875\n",
            "Epoch 6/400\n",
            "473/473 [==============================] - 2s 4ms/step - loss: 130878.3516 - val_loss: 124489.7891\n",
            "Epoch 7/400\n",
            "473/473 [==============================] - 2s 4ms/step - loss: 127074.2266 - val_loss: 122380.8516\n",
            "Epoch 8/400\n",
            "473/473 [==============================] - 2s 5ms/step - loss: 125188.8516 - val_loss: 120603.2266\n",
            "Epoch 9/400\n",
            "473/473 [==============================] - 2s 5ms/step - loss: 124012.3359 - val_loss: 119506.7969\n",
            "Epoch 10/400\n",
            "473/473 [==============================] - 2s 5ms/step - loss: 123086.4141 - val_loss: 118705.6328\n",
            "Epoch 11/400\n",
            "473/473 [==============================] - 2s 4ms/step - loss: 122326.3359 - val_loss: 118031.0391\n",
            "Epoch 12/400\n",
            "473/473 [==============================] - 2s 5ms/step - loss: 121844.7500 - val_loss: 117526.8750\n",
            "Epoch 13/400\n",
            "473/473 [==============================] - 2s 5ms/step - loss: 121406.0391 - val_loss: 117422.9297\n",
            "Epoch 14/400\n",
            "473/473 [==============================] - 2s 5ms/step - loss: 121090.1406 - val_loss: 116759.0781\n",
            "Epoch 15/400\n",
            "473/473 [==============================] - 2s 5ms/step - loss: 120702.1719 - val_loss: 116750.8516\n",
            "Epoch 16/400\n",
            "473/473 [==============================] - 2s 5ms/step - loss: 120554.9531 - val_loss: 116641.7109\n",
            "Epoch 17/400\n",
            "473/473 [==============================] - 2s 4ms/step - loss: 120183.0000 - val_loss: 116080.8672\n",
            "Epoch 18/400\n",
            "473/473 [==============================] - 2s 4ms/step - loss: 120015.6484 - val_loss: 116515.6953\n",
            "Epoch 19/400\n",
            "473/473 [==============================] - 2s 4ms/step - loss: 119843.5859 - val_loss: 116489.7578\n",
            "Epoch 20/400\n",
            "473/473 [==============================] - 2s 5ms/step - loss: 119732.4453 - val_loss: 115768.2891\n",
            "Epoch 21/400\n",
            "473/473 [==============================] - 1s 2ms/step - loss: 119471.0156 - val_loss: 115294.5703\n",
            "Epoch 22/400\n",
            "473/473 [==============================] - 1s 2ms/step - loss: 119447.6016 - val_loss: 115197.8047\n",
            "Epoch 23/400\n",
            "473/473 [==============================] - 1s 2ms/step - loss: 119304.6094 - val_loss: 115064.4922\n",
            "Epoch 24/400\n",
            "473/473 [==============================] - 1s 2ms/step - loss: 119252.4219 - val_loss: 114956.4844\n",
            "Epoch 25/400\n",
            "473/473 [==============================] - 1s 2ms/step - loss: 119133.1641 - val_loss: 115061.2266\n",
            "Epoch 26/400\n",
            "473/473 [==============================] - 1s 2ms/step - loss: 119047.3125 - val_loss: 115421.3359\n",
            "Epoch 27/400\n",
            "473/473 [==============================] - 1s 2ms/step - loss: 118898.8750 - val_loss: 114791.2188\n",
            "Epoch 28/400\n",
            "473/473 [==============================] - 1s 2ms/step - loss: 119023.7188 - val_loss: 114673.4062\n",
            "Epoch 29/400\n",
            "473/473 [==============================] - 1s 2ms/step - loss: 118769.3672 - val_loss: 115182.4531\n",
            "Epoch 30/400\n",
            "473/473 [==============================] - 1s 2ms/step - loss: 118729.2344 - val_loss: 115277.5625\n",
            "Epoch 31/400\n",
            "473/473 [==============================] - 1s 2ms/step - loss: 118666.7109 - val_loss: 114702.0938\n",
            "Epoch 32/400\n",
            "473/473 [==============================] - 1s 2ms/step - loss: 118596.5547 - val_loss: 114890.4375\n",
            "Epoch 33/400\n",
            "473/473 [==============================] - 1s 2ms/step - loss: 118630.4688 - val_loss: 114428.4766\n",
            "Epoch 34/400\n",
            "473/473 [==============================] - 1s 2ms/step - loss: 118549.8047 - val_loss: 114597.8359\n",
            "Epoch 35/400\n",
            "473/473 [==============================] - 1s 2ms/step - loss: 118500.2734 - val_loss: 114434.8750\n",
            "Epoch 36/400\n",
            "473/473 [==============================] - 1s 2ms/step - loss: 118462.5000 - val_loss: 114621.8281\n",
            "Epoch 37/400\n",
            "473/473 [==============================] - 1s 2ms/step - loss: 118466.3984 - val_loss: 114378.6406\n",
            "Epoch 38/400\n",
            "473/473 [==============================] - 1s 2ms/step - loss: 118316.5938 - val_loss: 114304.0859\n",
            "Epoch 39/400\n",
            "473/473 [==============================] - 1s 2ms/step - loss: 118359.2500 - val_loss: 114271.6953\n",
            "Epoch 40/400\n",
            "473/473 [==============================] - 1s 2ms/step - loss: 118396.7266 - val_loss: 114261.6875\n",
            "Epoch 41/400\n",
            "473/473 [==============================] - 1s 2ms/step - loss: 118382.1562 - val_loss: 114642.0859\n",
            "Epoch 42/400\n",
            "473/473 [==============================] - 1s 2ms/step - loss: 118367.8750 - val_loss: 114356.7734\n",
            "Epoch 43/400\n",
            "473/473 [==============================] - 1s 2ms/step - loss: 118289.4141 - val_loss: 115229.7891\n",
            "Epoch 44/400\n",
            "473/473 [==============================] - 1s 2ms/step - loss: 118346.1250 - val_loss: 114536.4922\n",
            "Epoch 45/400\n",
            "473/473 [==============================] - 1s 2ms/step - loss: 118240.1172 - val_loss: 114150.5938\n",
            "Epoch 46/400\n",
            "473/473 [==============================] - 1s 2ms/step - loss: 118195.1953 - val_loss: 114241.8359\n",
            "Epoch 47/400\n",
            "473/473 [==============================] - 1s 2ms/step - loss: 118196.2266 - val_loss: 114081.4297\n",
            "Epoch 48/400\n",
            "473/473 [==============================] - 1s 2ms/step - loss: 118251.8594 - val_loss: 114770.5391\n",
            "Epoch 49/400\n",
            "473/473 [==============================] - 1s 2ms/step - loss: 118185.7109 - val_loss: 114553.2344\n",
            "Epoch 50/400\n",
            "473/473 [==============================] - 1s 2ms/step - loss: 118223.6953 - val_loss: 114234.4609\n",
            "Epoch 51/400\n",
            "473/473 [==============================] - 1s 2ms/step - loss: 118209.8984 - val_loss: 114017.9922\n",
            "Epoch 52/400\n",
            "473/473 [==============================] - 1s 2ms/step - loss: 118194.1875 - val_loss: 114138.5391\n",
            "Epoch 53/400\n",
            "473/473 [==============================] - 1s 2ms/step - loss: 118107.1484 - val_loss: 114024.0781\n",
            "Epoch 54/400\n",
            "473/473 [==============================] - 1s 2ms/step - loss: 118257.0703 - val_loss: 114062.5547\n",
            "Epoch 55/400\n",
            "473/473 [==============================] - 1s 2ms/step - loss: 118174.9531 - val_loss: 114041.5391\n",
            "Epoch 56/400\n",
            "473/473 [==============================] - 1s 2ms/step - loss: 118090.2891 - val_loss: 114080.4453\n",
            "Epoch 57/400\n",
            "473/473 [==============================] - 1s 2ms/step - loss: 118138.2109 - val_loss: 114102.6484\n",
            "Epoch 58/400\n",
            "473/473 [==============================] - 1s 2ms/step - loss: 118145.3984 - val_loss: 114623.8203\n",
            "Epoch 59/400\n",
            "473/473 [==============================] - 1s 2ms/step - loss: 118065.8906 - val_loss: 114715.1016\n",
            "Epoch 60/400\n",
            "473/473 [==============================] - 1s 2ms/step - loss: 118078.6719 - val_loss: 114137.6172\n",
            "Epoch 61/400\n",
            "473/473 [==============================] - 1s 2ms/step - loss: 118127.7812 - val_loss: 114077.4062\n",
            "Epoch 62/400\n",
            "473/473 [==============================] - 1s 2ms/step - loss: 118164.9219 - val_loss: 114249.5781\n",
            "Epoch 63/400\n",
            "473/473 [==============================] - 1s 2ms/step - loss: 118041.7188 - val_loss: 114073.0859\n",
            "Epoch 64/400\n",
            "473/473 [==============================] - 1s 2ms/step - loss: 118096.5781 - val_loss: 113931.0938\n",
            "Epoch 65/400\n",
            "473/473 [==============================] - 1s 2ms/step - loss: 118126.6797 - val_loss: 114308.6328\n",
            "Epoch 66/400\n",
            "473/473 [==============================] - 1s 2ms/step - loss: 118074.0312 - val_loss: 114048.7812\n",
            "Epoch 67/400\n",
            "473/473 [==============================] - 1s 2ms/step - loss: 118072.7734 - val_loss: 114008.7734\n",
            "Epoch 68/400\n",
            "473/473 [==============================] - 1s 2ms/step - loss: 118014.5859 - val_loss: 113943.1328\n",
            "Epoch 69/400\n",
            "473/473 [==============================] - 1s 2ms/step - loss: 118061.8203 - val_loss: 114011.3281\n",
            "Epoch 70/400\n",
            "473/473 [==============================] - 1s 2ms/step - loss: 118133.6875 - val_loss: 113933.4219\n",
            "Epoch 71/400\n",
            "473/473 [==============================] - 1s 2ms/step - loss: 118209.7656 - val_loss: 113959.5234\n",
            "Epoch 72/400\n",
            "473/473 [==============================] - 1s 2ms/step - loss: 118137.4219 - val_loss: 114420.6484\n",
            "Epoch 73/400\n",
            "473/473 [==============================] - 1s 2ms/step - loss: 118064.1875 - val_loss: 113968.4453\n",
            "Epoch 74/400\n",
            "473/473 [==============================] - 1s 2ms/step - loss: 118080.1094 - val_loss: 114001.2578\n",
            "Epoch 75/400\n",
            "473/473 [==============================] - 1s 2ms/step - loss: 118008.2656 - val_loss: 114119.4844\n",
            "Epoch 76/400\n",
            "473/473 [==============================] - 1s 2ms/step - loss: 118066.3828 - val_loss: 113959.2500\n",
            "Epoch 77/400\n",
            "473/473 [==============================] - 1s 2ms/step - loss: 118059.4219 - val_loss: 114103.6172\n",
            "Epoch 78/400\n",
            "473/473 [==============================] - 1s 2ms/step - loss: 118075.8281 - val_loss: 114185.9375\n",
            "Epoch 79/400\n",
            "473/473 [==============================] - 1s 2ms/step - loss: 118108.7969 - val_loss: 113883.8203\n",
            "Epoch 80/400\n",
            "473/473 [==============================] - 1s 2ms/step - loss: 118070.3750 - val_loss: 114090.1719\n",
            "Epoch 81/400\n",
            "473/473 [==============================] - 1s 2ms/step - loss: 118141.4141 - val_loss: 113925.3203\n",
            "Epoch 82/400\n",
            "473/473 [==============================] - 1s 2ms/step - loss: 118045.6250 - val_loss: 113912.9766\n",
            "Epoch 83/400\n",
            "473/473 [==============================] - 1s 2ms/step - loss: 118066.7578 - val_loss: 113957.2578\n",
            "Epoch 84/400\n",
            "473/473 [==============================] - 1s 2ms/step - loss: 118023.4453 - val_loss: 114033.7344\n",
            "Epoch 85/400\n",
            "473/473 [==============================] - 1s 2ms/step - loss: 118203.1172 - val_loss: 113950.6094\n",
            "Epoch 86/400\n",
            "473/473 [==============================] - 1s 2ms/step - loss: 118045.6406 - val_loss: 113970.6953\n",
            "Epoch 87/400\n",
            "473/473 [==============================] - 1s 2ms/step - loss: 118049.8828 - val_loss: 114179.5938\n",
            "Epoch 88/400\n",
            "473/473 [==============================] - 1s 2ms/step - loss: 118103.2422 - val_loss: 114448.1484\n",
            "Epoch 89/400\n",
            "473/473 [==============================] - 1s 2ms/step - loss: 118094.3047 - val_loss: 114011.4766\n",
            "Epoch 90/400\n",
            "473/473 [==============================] - 1s 2ms/step - loss: 118057.1562 - val_loss: 113885.9922\n",
            "Epoch 91/400\n",
            "473/473 [==============================] - 1s 2ms/step - loss: 118113.6562 - val_loss: 114038.6484\n",
            "Epoch 92/400\n",
            "473/473 [==============================] - 1s 2ms/step - loss: 118029.8203 - val_loss: 114114.0547\n",
            "Epoch 93/400\n",
            "473/473 [==============================] - 1s 2ms/step - loss: 118092.5469 - val_loss: 113899.6328\n",
            "Epoch 94/400\n",
            "473/473 [==============================] - 1s 2ms/step - loss: 118100.9375 - val_loss: 113930.1719\n",
            "Epoch 95/400\n",
            "473/473 [==============================] - 1s 2ms/step - loss: 118028.9766 - val_loss: 113931.6719\n",
            "Epoch 96/400\n",
            "473/473 [==============================] - 1s 2ms/step - loss: 118170.1250 - val_loss: 114682.8125\n",
            "Epoch 97/400\n",
            "473/473 [==============================] - 1s 2ms/step - loss: 118080.4844 - val_loss: 113976.8672\n",
            "Epoch 98/400\n",
            "473/473 [==============================] - 1s 2ms/step - loss: 118035.3203 - val_loss: 114144.1406\n",
            "Epoch 99/400\n",
            "473/473 [==============================] - 1s 2ms/step - loss: 118160.8984 - val_loss: 113941.0781\n",
            "Epoch 100/400\n",
            "473/473 [==============================] - 1s 2ms/step - loss: 117982.0781 - val_loss: 113968.5703\n",
            "Epoch 101/400\n",
            "473/473 [==============================] - 1s 2ms/step - loss: 118110.2969 - val_loss: 114060.9219\n",
            "Epoch 102/400\n",
            "473/473 [==============================] - 1s 2ms/step - loss: 118048.6172 - val_loss: 113938.6562\n",
            "Epoch 103/400\n",
            "473/473 [==============================] - 1s 2ms/step - loss: 118085.0078 - val_loss: 114008.7812\n",
            "Epoch 104/400\n",
            "473/473 [==============================] - 1s 2ms/step - loss: 117982.5547 - val_loss: 114031.5859\n",
            "Epoch 105/400\n",
            "473/473 [==============================] - 2s 4ms/step - loss: 118114.7109 - val_loss: 113948.2109\n",
            "Epoch 106/400\n",
            "473/473 [==============================] - 2s 4ms/step - loss: 118019.0547 - val_loss: 113876.8125\n",
            "Epoch 107/400\n",
            "473/473 [==============================] - 2s 5ms/step - loss: 118103.0859 - val_loss: 114087.9922\n",
            "Epoch 108/400\n",
            "473/473 [==============================] - 1s 2ms/step - loss: 118102.5547 - val_loss: 113936.9609\n",
            "Epoch 109/400\n",
            "473/473 [==============================] - 1s 2ms/step - loss: 118072.9766 - val_loss: 114761.5234\n",
            "Epoch 110/400\n",
            "473/473 [==============================] - 1s 2ms/step - loss: 118058.4141 - val_loss: 113943.2812\n",
            "Epoch 111/400\n",
            "473/473 [==============================] - 1s 2ms/step - loss: 118038.2656 - val_loss: 114079.6875\n",
            "Epoch 112/400\n",
            "473/473 [==============================] - 1s 2ms/step - loss: 118068.0156 - val_loss: 113933.5000\n",
            "Epoch 113/400\n",
            "473/473 [==============================] - 1s 2ms/step - loss: 118072.8984 - val_loss: 113873.3906\n",
            "Epoch 114/400\n",
            "473/473 [==============================] - 1s 2ms/step - loss: 118084.2812 - val_loss: 114188.1875\n",
            "Epoch 115/400\n",
            "473/473 [==============================] - 1s 2ms/step - loss: 118025.6562 - val_loss: 113949.0000\n",
            "Epoch 116/400\n",
            "473/473 [==============================] - 1s 2ms/step - loss: 118032.0000 - val_loss: 115538.7656\n",
            "Epoch 117/400\n",
            "473/473 [==============================] - 1s 2ms/step - loss: 118051.0547 - val_loss: 113962.5938\n",
            "Epoch 118/400\n",
            "473/473 [==============================] - 1s 2ms/step - loss: 118143.2969 - val_loss: 114241.5703\n",
            "Epoch 119/400\n",
            "473/473 [==============================] - 1s 2ms/step - loss: 118098.2031 - val_loss: 113949.2344\n",
            "Epoch 120/400\n",
            "473/473 [==============================] - 1s 2ms/step - loss: 117976.5859 - val_loss: 114083.4297\n",
            "Epoch 121/400\n",
            "473/473 [==============================] - 1s 2ms/step - loss: 118071.4844 - val_loss: 114104.1406\n",
            "Epoch 122/400\n",
            "473/473 [==============================] - 1s 2ms/step - loss: 118053.4688 - val_loss: 114061.8750\n",
            "Epoch 123/400\n",
            "473/473 [==============================] - 1s 2ms/step - loss: 118084.3203 - val_loss: 114125.7812\n",
            "Epoch 124/400\n",
            "473/473 [==============================] - 1s 2ms/step - loss: 118042.8828 - val_loss: 114117.9141\n",
            "Epoch 125/400\n",
            "473/473 [==============================] - 1s 2ms/step - loss: 118035.1484 - val_loss: 114059.6328\n",
            "Epoch 126/400\n",
            "473/473 [==============================] - 1s 2ms/step - loss: 118173.7734 - val_loss: 114143.8359\n",
            "Epoch 127/400\n",
            "473/473 [==============================] - 1s 2ms/step - loss: 118071.6562 - val_loss: 114020.6875\n",
            "Epoch 128/400\n",
            "473/473 [==============================] - 1s 2ms/step - loss: 118065.9766 - val_loss: 113896.5859\n",
            "Epoch 129/400\n",
            "473/473 [==============================] - 1s 2ms/step - loss: 118017.2109 - val_loss: 113871.8438\n",
            "Epoch 130/400\n",
            "473/473 [==============================] - 1s 2ms/step - loss: 118198.3516 - val_loss: 113910.9922\n",
            "Epoch 131/400\n",
            "473/473 [==============================] - 1s 2ms/step - loss: 118038.3828 - val_loss: 114267.5469\n",
            "Epoch 132/400\n",
            "473/473 [==============================] - 1s 2ms/step - loss: 118065.8516 - val_loss: 114237.4297\n",
            "Epoch 133/400\n",
            "473/473 [==============================] - 1s 2ms/step - loss: 118091.5000 - val_loss: 113919.1484\n",
            "Epoch 134/400\n",
            "473/473 [==============================] - 1s 2ms/step - loss: 118097.6328 - val_loss: 113909.3438\n",
            "Epoch 135/400\n",
            "473/473 [==============================] - 1s 2ms/step - loss: 118060.5781 - val_loss: 114257.6484\n",
            "Epoch 136/400\n",
            "473/473 [==============================] - 1s 2ms/step - loss: 118215.3047 - val_loss: 114055.7891\n",
            "Epoch 137/400\n",
            "473/473 [==============================] - 1s 2ms/step - loss: 118098.3672 - val_loss: 113935.9531\n",
            "Epoch 138/400\n",
            "473/473 [==============================] - 1s 2ms/step - loss: 118143.8906 - val_loss: 113985.1328\n",
            "Epoch 139/400\n",
            "473/473 [==============================] - 1s 2ms/step - loss: 118072.5000 - val_loss: 114175.2500\n",
            "Epoch 140/400\n",
            "473/473 [==============================] - 1s 2ms/step - loss: 117990.2109 - val_loss: 113859.9688\n",
            "Epoch 141/400\n",
            "473/473 [==============================] - 1s 2ms/step - loss: 118068.8438 - val_loss: 113939.7656\n",
            "Epoch 142/400\n",
            "473/473 [==============================] - 1s 2ms/step - loss: 118128.9219 - val_loss: 114052.5234\n",
            "Epoch 143/400\n",
            "473/473 [==============================] - 1s 2ms/step - loss: 118150.4375 - val_loss: 113900.7188\n",
            "Epoch 144/400\n",
            "473/473 [==============================] - 1s 2ms/step - loss: 118037.5859 - val_loss: 113968.3047\n",
            "Epoch 145/400\n",
            "473/473 [==============================] - 1s 2ms/step - loss: 118010.9766 - val_loss: 113998.1250\n",
            "Epoch 146/400\n",
            "473/473 [==============================] - 1s 2ms/step - loss: 118052.6641 - val_loss: 114017.0938\n",
            "Epoch 147/400\n",
            "473/473 [==============================] - 1s 2ms/step - loss: 118127.4922 - val_loss: 113959.5391\n",
            "Epoch 148/400\n",
            "473/473 [==============================] - 1s 2ms/step - loss: 118030.1719 - val_loss: 113884.6250\n",
            "Epoch 149/400\n",
            "473/473 [==============================] - 1s 2ms/step - loss: 118053.6953 - val_loss: 113895.6641\n",
            "Epoch 150/400\n",
            "473/473 [==============================] - 1s 2ms/step - loss: 118101.4062 - val_loss: 114000.1250\n",
            "Epoch 151/400\n",
            "473/473 [==============================] - 1s 2ms/step - loss: 118064.2188 - val_loss: 113937.0859\n",
            "Epoch 152/400\n",
            "473/473 [==============================] - 1s 2ms/step - loss: 118065.3047 - val_loss: 114160.9453\n",
            "Epoch 153/400\n",
            "473/473 [==============================] - 1s 2ms/step - loss: 118117.3750 - val_loss: 114204.5547\n",
            "Epoch 154/400\n",
            "473/473 [==============================] - 1s 2ms/step - loss: 118089.9844 - val_loss: 113881.6719\n",
            "Epoch 155/400\n",
            "473/473 [==============================] - 1s 2ms/step - loss: 118070.2578 - val_loss: 114071.1875\n",
            "Epoch 156/400\n",
            "473/473 [==============================] - 1s 2ms/step - loss: 118050.5391 - val_loss: 113948.5312\n",
            "Epoch 157/400\n",
            "473/473 [==============================] - 1s 2ms/step - loss: 118062.7734 - val_loss: 114174.8281\n",
            "Epoch 158/400\n",
            "473/473 [==============================] - 1s 2ms/step - loss: 118065.3984 - val_loss: 113957.0547\n",
            "Epoch 159/400\n",
            "473/473 [==============================] - 1s 2ms/step - loss: 118049.9453 - val_loss: 114453.7969\n",
            "Epoch 160/400\n",
            "473/473 [==============================] - 1s 2ms/step - loss: 118070.6953 - val_loss: 113859.8906\n",
            "Epoch 161/400\n",
            "473/473 [==============================] - 1s 2ms/step - loss: 118005.9922 - val_loss: 114284.4375\n",
            "Epoch 162/400\n",
            "473/473 [==============================] - 1s 2ms/step - loss: 118137.7109 - val_loss: 113851.5938\n",
            "Epoch 163/400\n",
            "473/473 [==============================] - 1s 2ms/step - loss: 118063.3828 - val_loss: 113978.7734\n",
            "Epoch 164/400\n",
            "473/473 [==============================] - 1s 2ms/step - loss: 118061.6562 - val_loss: 114245.0234\n",
            "Epoch 165/400\n",
            "473/473 [==============================] - 1s 2ms/step - loss: 118111.6172 - val_loss: 114001.8828\n",
            "Epoch 166/400\n",
            "473/473 [==============================] - 1s 2ms/step - loss: 118074.5312 - val_loss: 113878.6484\n",
            "Epoch 167/400\n",
            "473/473 [==============================] - 1s 2ms/step - loss: 118056.2891 - val_loss: 113866.3516\n",
            "Epoch 168/400\n",
            "473/473 [==============================] - 1s 2ms/step - loss: 118101.7734 - val_loss: 113975.6875\n",
            "Epoch 169/400\n",
            "473/473 [==============================] - 1s 2ms/step - loss: 118089.2500 - val_loss: 113965.1094\n",
            "Epoch 170/400\n",
            "473/473 [==============================] - 1s 2ms/step - loss: 118103.5703 - val_loss: 114164.1094\n",
            "Epoch 171/400\n",
            "473/473 [==============================] - 1s 2ms/step - loss: 118084.1484 - val_loss: 114592.5312\n",
            "Epoch 172/400\n",
            "473/473 [==============================] - 1s 2ms/step - loss: 118041.7578 - val_loss: 113985.3516\n",
            "Epoch 173/400\n",
            "473/473 [==============================] - 1s 2ms/step - loss: 118044.6484 - val_loss: 114131.0938\n",
            "Epoch 174/400\n",
            "473/473 [==============================] - 1s 2ms/step - loss: 118037.7422 - val_loss: 113875.0312\n",
            "Epoch 175/400\n",
            "473/473 [==============================] - 1s 2ms/step - loss: 118015.8984 - val_loss: 114013.0156\n",
            "Epoch 176/400\n",
            "473/473 [==============================] - 1s 2ms/step - loss: 118067.0156 - val_loss: 113904.9688\n",
            "Epoch 177/400\n",
            "473/473 [==============================] - 1s 2ms/step - loss: 118109.1172 - val_loss: 113924.9609\n",
            "Epoch 178/400\n",
            "473/473 [==============================] - 1s 2ms/step - loss: 118019.6016 - val_loss: 114225.4531\n",
            "Epoch 179/400\n",
            "473/473 [==============================] - 1s 2ms/step - loss: 117972.8359 - val_loss: 114712.1875\n",
            "Epoch 180/400\n",
            "473/473 [==============================] - 1s 2ms/step - loss: 118161.0156 - val_loss: 114004.2969\n",
            "Epoch 181/400\n",
            "473/473 [==============================] - 1s 2ms/step - loss: 117970.0781 - val_loss: 114001.3906\n",
            "Epoch 182/400\n",
            "473/473 [==============================] - 1s 2ms/step - loss: 118090.8516 - val_loss: 113972.9766\n",
            "Epoch 183/400\n",
            "473/473 [==============================] - 1s 2ms/step - loss: 118040.3672 - val_loss: 113895.5938\n",
            "Epoch 184/400\n",
            "473/473 [==============================] - 1s 2ms/step - loss: 118044.8516 - val_loss: 113879.4062\n",
            "Epoch 185/400\n",
            "473/473 [==============================] - 1s 2ms/step - loss: 118046.4219 - val_loss: 114229.4531\n",
            "Epoch 186/400\n",
            "473/473 [==============================] - 1s 2ms/step - loss: 118076.3828 - val_loss: 113946.9609\n",
            "Epoch 187/400\n",
            "473/473 [==============================] - 1s 2ms/step - loss: 118076.5938 - val_loss: 114224.9297\n",
            "Epoch 188/400\n",
            "473/473 [==============================] - 1s 2ms/step - loss: 118117.2422 - val_loss: 115126.5547\n",
            "Epoch 189/400\n",
            "473/473 [==============================] - 1s 2ms/step - loss: 118098.9219 - val_loss: 113953.6797\n",
            "Epoch 190/400\n",
            "473/473 [==============================] - 1s 2ms/step - loss: 118085.8438 - val_loss: 114134.5000\n",
            "Epoch 191/400\n",
            "473/473 [==============================] - 1s 2ms/step - loss: 118017.8750 - val_loss: 114291.6953\n",
            "Epoch 192/400\n",
            "473/473 [==============================] - 1s 2ms/step - loss: 118064.4219 - val_loss: 114041.2422\n",
            "Epoch 193/400\n",
            "473/473 [==============================] - 1s 2ms/step - loss: 118070.3438 - val_loss: 114149.3594\n",
            "Epoch 194/400\n",
            "473/473 [==============================] - 1s 2ms/step - loss: 118046.8359 - val_loss: 114073.8594\n",
            "Epoch 195/400\n",
            "473/473 [==============================] - 1s 2ms/step - loss: 118031.2344 - val_loss: 113943.3516\n",
            "Epoch 196/400\n",
            "473/473 [==============================] - 1s 2ms/step - loss: 117990.6875 - val_loss: 113999.5391\n",
            "Epoch 197/400\n",
            "473/473 [==============================] - 1s 2ms/step - loss: 118073.3516 - val_loss: 113884.3828\n",
            "Epoch 198/400\n",
            "473/473 [==============================] - 1s 2ms/step - loss: 118108.8984 - val_loss: 113953.0234\n",
            "Epoch 199/400\n",
            "473/473 [==============================] - 1s 2ms/step - loss: 118208.4844 - val_loss: 114628.3984\n",
            "Epoch 200/400\n",
            "473/473 [==============================] - 1s 2ms/step - loss: 117961.4844 - val_loss: 113903.6562\n",
            "Epoch 201/400\n",
            "473/473 [==============================] - 1s 2ms/step - loss: 117989.4453 - val_loss: 114244.1250\n",
            "Epoch 202/400\n",
            "473/473 [==============================] - 1s 2ms/step - loss: 118020.1172 - val_loss: 113929.6328\n",
            "Epoch 203/400\n",
            "473/473 [==============================] - 1s 2ms/step - loss: 118083.1875 - val_loss: 114567.1172\n",
            "Epoch 204/400\n",
            "473/473 [==============================] - 1s 2ms/step - loss: 118031.9453 - val_loss: 114143.2969\n",
            "Epoch 205/400\n",
            "473/473 [==============================] - 1s 2ms/step - loss: 118023.5078 - val_loss: 114185.8750\n",
            "Epoch 206/400\n",
            "473/473 [==============================] - 1s 2ms/step - loss: 118129.2266 - val_loss: 114211.4844\n",
            "Epoch 207/400\n",
            "473/473 [==============================] - 1s 2ms/step - loss: 118073.1562 - val_loss: 113946.4531\n",
            "Epoch 208/400\n",
            "473/473 [==============================] - 1s 2ms/step - loss: 118014.3438 - val_loss: 113936.4453\n",
            "Epoch 209/400\n",
            "473/473 [==============================] - 1s 2ms/step - loss: 118063.0547 - val_loss: 114026.6797\n",
            "Epoch 210/400\n",
            "473/473 [==============================] - 1s 2ms/step - loss: 118043.7266 - val_loss: 114304.2734\n",
            "Epoch 211/400\n",
            "473/473 [==============================] - 1s 2ms/step - loss: 118086.5391 - val_loss: 114080.6094\n",
            "Epoch 212/400\n",
            "473/473 [==============================] - 1s 2ms/step - loss: 118183.5781 - val_loss: 113844.3594\n",
            "Epoch 213/400\n",
            "473/473 [==============================] - 1s 2ms/step - loss: 118032.8125 - val_loss: 113869.8594\n",
            "Epoch 214/400\n",
            "473/473 [==============================] - 1s 2ms/step - loss: 117998.7500 - val_loss: 113857.3516\n",
            "Epoch 215/400\n",
            "473/473 [==============================] - 1s 2ms/step - loss: 118019.5469 - val_loss: 114033.1562\n",
            "Epoch 216/400\n",
            "473/473 [==============================] - 1s 2ms/step - loss: 118061.5234 - val_loss: 113970.6484\n",
            "Epoch 217/400\n",
            "473/473 [==============================] - 1s 2ms/step - loss: 118100.5938 - val_loss: 113919.4688\n",
            "Epoch 218/400\n",
            "473/473 [==============================] - 1s 2ms/step - loss: 118020.0391 - val_loss: 114111.3281\n",
            "Epoch 219/400\n",
            "473/473 [==============================] - 1s 2ms/step - loss: 118010.3984 - val_loss: 113968.8516\n",
            "Epoch 220/400\n",
            "473/473 [==============================] - 1s 2ms/step - loss: 118057.6484 - val_loss: 113920.3125\n",
            "Epoch 221/400\n",
            "473/473 [==============================] - 1s 2ms/step - loss: 118037.3203 - val_loss: 114263.9766\n",
            "Epoch 222/400\n",
            "473/473 [==============================] - 1s 2ms/step - loss: 118129.1328 - val_loss: 114248.3359\n",
            "Epoch 223/400\n",
            "473/473 [==============================] - 1s 2ms/step - loss: 118016.2422 - val_loss: 114356.0703\n",
            "Epoch 224/400\n",
            "473/473 [==============================] - 1s 2ms/step - loss: 118024.6328 - val_loss: 114490.3281\n",
            "Epoch 225/400\n",
            "473/473 [==============================] - 1s 2ms/step - loss: 118072.8594 - val_loss: 113999.2188\n",
            "Epoch 226/400\n",
            "473/473 [==============================] - 1s 2ms/step - loss: 118027.8203 - val_loss: 114750.5156\n",
            "Epoch 227/400\n",
            "473/473 [==============================] - 1s 2ms/step - loss: 118074.3203 - val_loss: 113972.0391\n",
            "Epoch 228/400\n",
            "473/473 [==============================] - 1s 2ms/step - loss: 117989.2656 - val_loss: 114466.9062\n",
            "Epoch 229/400\n",
            "473/473 [==============================] - 1s 2ms/step - loss: 118130.6953 - val_loss: 113976.6797\n",
            "Epoch 230/400\n",
            "473/473 [==============================] - 1s 2ms/step - loss: 118006.4297 - val_loss: 113956.3672\n",
            "Epoch 231/400\n",
            "473/473 [==============================] - 1s 2ms/step - loss: 118111.4297 - val_loss: 114457.6953\n",
            "Epoch 232/400\n",
            "473/473 [==============================] - 1s 2ms/step - loss: 118197.9844 - val_loss: 114502.1641\n",
            "Epoch 233/400\n",
            "473/473 [==============================] - 1s 2ms/step - loss: 118056.6016 - val_loss: 113939.4297\n",
            "Epoch 234/400\n",
            "473/473 [==============================] - 1s 2ms/step - loss: 118069.1641 - val_loss: 114568.2344\n",
            "Epoch 235/400\n",
            "473/473 [==============================] - 1s 2ms/step - loss: 118064.6953 - val_loss: 114136.9453\n",
            "Epoch 236/400\n",
            "473/473 [==============================] - 1s 2ms/step - loss: 118103.5312 - val_loss: 114038.9922\n",
            "Epoch 237/400\n",
            "473/473 [==============================] - 1s 2ms/step - loss: 118052.7500 - val_loss: 113976.0625\n",
            "Epoch 238/400\n",
            "473/473 [==============================] - 1s 2ms/step - loss: 118054.0078 - val_loss: 113917.2344\n",
            "Epoch 239/400\n",
            "473/473 [==============================] - 1s 2ms/step - loss: 118042.5078 - val_loss: 113910.6172\n",
            "Epoch 240/400\n",
            "473/473 [==============================] - 1s 2ms/step - loss: 118017.9375 - val_loss: 114140.0625\n",
            "Epoch 241/400\n",
            "473/473 [==============================] - 1s 2ms/step - loss: 117990.1719 - val_loss: 114164.0391\n",
            "Epoch 242/400\n",
            "473/473 [==============================] - 1s 2ms/step - loss: 118076.7969 - val_loss: 113942.4219\n",
            "Epoch 243/400\n",
            "473/473 [==============================] - 1s 2ms/step - loss: 118102.8359 - val_loss: 113885.0000\n",
            "Epoch 244/400\n",
            "473/473 [==============================] - 1s 2ms/step - loss: 118059.0312 - val_loss: 113834.8125\n",
            "Epoch 245/400\n",
            "473/473 [==============================] - 1s 2ms/step - loss: 118079.2109 - val_loss: 114394.6562\n",
            "Epoch 246/400\n",
            "473/473 [==============================] - 1s 2ms/step - loss: 118044.4609 - val_loss: 113884.5469\n",
            "Epoch 247/400\n",
            "473/473 [==============================] - 1s 2ms/step - loss: 118018.9219 - val_loss: 114462.1250\n",
            "Epoch 248/400\n",
            "473/473 [==============================] - 1s 2ms/step - loss: 118128.4766 - val_loss: 114063.5859\n",
            "Epoch 249/400\n",
            "473/473 [==============================] - 1s 2ms/step - loss: 118037.8281 - val_loss: 114061.2812\n",
            "Epoch 250/400\n",
            "473/473 [==============================] - 1s 2ms/step - loss: 118066.7109 - val_loss: 113913.5625\n",
            "Epoch 251/400\n",
            "473/473 [==============================] - 1s 2ms/step - loss: 117997.2188 - val_loss: 114028.7734\n",
            "Epoch 252/400\n",
            "473/473 [==============================] - 1s 2ms/step - loss: 118056.9219 - val_loss: 113903.7422\n",
            "Epoch 253/400\n",
            "473/473 [==============================] - 1s 2ms/step - loss: 118067.5000 - val_loss: 114333.3359\n",
            "Epoch 254/400\n",
            "473/473 [==============================] - 1s 2ms/step - loss: 118116.1719 - val_loss: 113886.9922\n",
            "Epoch 255/400\n",
            "473/473 [==============================] - 1s 2ms/step - loss: 118109.4219 - val_loss: 113911.8203\n",
            "Epoch 256/400\n",
            "473/473 [==============================] - 1s 2ms/step - loss: 118048.7344 - val_loss: 113984.6406\n",
            "Epoch 257/400\n",
            "473/473 [==============================] - 1s 2ms/step - loss: 118058.6562 - val_loss: 114209.2109\n",
            "Epoch 258/400\n",
            "473/473 [==============================] - 1s 2ms/step - loss: 118057.7109 - val_loss: 114407.0547\n",
            "Epoch 259/400\n",
            "473/473 [==============================] - 1s 2ms/step - loss: 118019.0156 - val_loss: 113914.0078\n",
            "Epoch 260/400\n",
            "473/473 [==============================] - 1s 2ms/step - loss: 118086.8828 - val_loss: 113957.0547\n",
            "Epoch 261/400\n",
            "473/473 [==============================] - 1s 2ms/step - loss: 118046.0938 - val_loss: 114129.4922\n",
            "Epoch 262/400\n",
            "473/473 [==============================] - 1s 2ms/step - loss: 118065.8516 - val_loss: 114110.2031\n",
            "Epoch 263/400\n",
            "473/473 [==============================] - 1s 2ms/step - loss: 118047.1016 - val_loss: 114219.0000\n",
            "Epoch 264/400\n",
            "473/473 [==============================] - 1s 2ms/step - loss: 118078.6797 - val_loss: 113918.4609\n",
            "Epoch 265/400\n",
            "473/473 [==============================] - 1s 2ms/step - loss: 118076.2422 - val_loss: 113930.8047\n",
            "Epoch 266/400\n",
            "473/473 [==============================] - 1s 2ms/step - loss: 118021.7422 - val_loss: 113891.3516\n",
            "Epoch 267/400\n",
            "473/473 [==============================] - 1s 2ms/step - loss: 118053.9688 - val_loss: 113927.6562\n",
            "Epoch 268/400\n",
            "473/473 [==============================] - 1s 2ms/step - loss: 118104.9062 - val_loss: 114170.4062\n",
            "Epoch 269/400\n",
            "473/473 [==============================] - 1s 2ms/step - loss: 118008.2422 - val_loss: 114163.6953\n",
            "Epoch 270/400\n",
            "473/473 [==============================] - 1s 2ms/step - loss: 118095.0859 - val_loss: 113917.6328\n",
            "Epoch 271/400\n",
            "473/473 [==============================] - 1s 2ms/step - loss: 118028.3359 - val_loss: 114164.2266\n",
            "Epoch 272/400\n",
            "473/473 [==============================] - 1s 2ms/step - loss: 118086.8438 - val_loss: 114113.3047\n",
            "Epoch 273/400\n",
            "473/473 [==============================] - 1s 2ms/step - loss: 118014.3750 - val_loss: 114567.3125\n",
            "Epoch 274/400\n",
            "473/473 [==============================] - 1s 2ms/step - loss: 118062.6953 - val_loss: 114205.6328\n",
            "Epoch 275/400\n",
            "473/473 [==============================] - 1s 2ms/step - loss: 118009.1875 - val_loss: 114539.8750\n",
            "Epoch 276/400\n",
            "473/473 [==============================] - 1s 2ms/step - loss: 117990.4766 - val_loss: 113940.3984\n",
            "Epoch 277/400\n",
            "473/473 [==============================] - 1s 2ms/step - loss: 118052.2891 - val_loss: 114287.3203\n",
            "Epoch 278/400\n",
            "473/473 [==============================] - 1s 2ms/step - loss: 118101.5000 - val_loss: 113871.2266\n",
            "Epoch 279/400\n",
            "473/473 [==============================] - 1s 2ms/step - loss: 118058.1562 - val_loss: 114089.4922\n",
            "Epoch 280/400\n",
            "473/473 [==============================] - 1s 2ms/step - loss: 118137.8281 - val_loss: 113992.9375\n",
            "Epoch 281/400\n",
            "473/473 [==============================] - 1s 2ms/step - loss: 118044.1953 - val_loss: 114224.8672\n",
            "Epoch 282/400\n",
            "473/473 [==============================] - 1s 2ms/step - loss: 118064.5156 - val_loss: 113881.5625\n",
            "Epoch 283/400\n",
            "473/473 [==============================] - 1s 2ms/step - loss: 118043.3516 - val_loss: 113878.3125\n",
            "Epoch 284/400\n",
            "473/473 [==============================] - 1s 2ms/step - loss: 118109.1875 - val_loss: 113900.1172\n",
            "Epoch 285/400\n",
            "473/473 [==============================] - 1s 2ms/step - loss: 118091.1641 - val_loss: 113977.7656\n",
            "Epoch 286/400\n",
            "473/473 [==============================] - 1s 2ms/step - loss: 118026.1484 - val_loss: 113957.6406\n",
            "Epoch 287/400\n",
            "473/473 [==============================] - 1s 2ms/step - loss: 118055.6250 - val_loss: 113987.2500\n",
            "Epoch 288/400\n",
            "473/473 [==============================] - 1s 2ms/step - loss: 118093.0625 - val_loss: 113947.0312\n",
            "Epoch 289/400\n",
            "473/473 [==============================] - 1s 2ms/step - loss: 118069.6562 - val_loss: 114119.8047\n",
            "Epoch 290/400\n",
            "473/473 [==============================] - 1s 2ms/step - loss: 118050.5078 - val_loss: 114555.6719\n",
            "Epoch 291/400\n",
            "473/473 [==============================] - 1s 2ms/step - loss: 118027.0703 - val_loss: 114210.4688\n",
            "Epoch 292/400\n",
            "473/473 [==============================] - 1s 2ms/step - loss: 118102.8125 - val_loss: 113991.1406\n",
            "Epoch 293/400\n",
            "473/473 [==============================] - 1s 2ms/step - loss: 118138.7734 - val_loss: 113884.9219\n",
            "Epoch 294/400\n",
            "473/473 [==============================] - 1s 2ms/step - loss: 117995.1172 - val_loss: 114086.8516\n",
            "Epoch 295/400\n",
            "473/473 [==============================] - 1s 2ms/step - loss: 118066.0938 - val_loss: 114180.2891\n",
            "Epoch 296/400\n",
            "473/473 [==============================] - 1s 2ms/step - loss: 118142.4062 - val_loss: 114146.7734\n",
            "Epoch 297/400\n",
            "473/473 [==============================] - 1s 2ms/step - loss: 118009.6562 - val_loss: 113913.8828\n",
            "Epoch 298/400\n",
            "473/473 [==============================] - 1s 2ms/step - loss: 118118.5156 - val_loss: 114513.1484\n",
            "Epoch 299/400\n",
            "473/473 [==============================] - 1s 2ms/step - loss: 118060.3281 - val_loss: 113972.9375\n",
            "Epoch 300/400\n",
            "473/473 [==============================] - 1s 2ms/step - loss: 118122.2891 - val_loss: 113907.3750\n",
            "Epoch 301/400\n",
            "473/473 [==============================] - 1s 2ms/step - loss: 118010.5703 - val_loss: 114249.1484\n",
            "Epoch 302/400\n",
            "473/473 [==============================] - 1s 2ms/step - loss: 118032.7656 - val_loss: 114326.6953\n",
            "Epoch 303/400\n",
            "473/473 [==============================] - 1s 2ms/step - loss: 118037.5391 - val_loss: 114045.1172\n",
            "Epoch 304/400\n",
            "473/473 [==============================] - 1s 2ms/step - loss: 118128.4688 - val_loss: 114012.1562\n",
            "Epoch 305/400\n",
            "473/473 [==============================] - 1s 2ms/step - loss: 118050.2188 - val_loss: 113928.8281\n",
            "Epoch 306/400\n",
            "473/473 [==============================] - 1s 2ms/step - loss: 118081.9766 - val_loss: 113943.6875\n",
            "Epoch 307/400\n",
            "473/473 [==============================] - 1s 2ms/step - loss: 118042.4609 - val_loss: 113858.2109\n",
            "Epoch 308/400\n",
            "473/473 [==============================] - 1s 2ms/step - loss: 118041.8047 - val_loss: 114188.6016\n",
            "Epoch 309/400\n",
            "473/473 [==============================] - 1s 2ms/step - loss: 118067.9453 - val_loss: 113878.6406\n",
            "Epoch 310/400\n",
            "473/473 [==============================] - 1s 2ms/step - loss: 118114.0234 - val_loss: 113928.6484\n",
            "Epoch 311/400\n",
            "473/473 [==============================] - 1s 2ms/step - loss: 118062.1719 - val_loss: 113888.0781\n",
            "Epoch 312/400\n",
            "473/473 [==============================] - 1s 2ms/step - loss: 118074.5000 - val_loss: 114360.2266\n",
            "Epoch 313/400\n",
            "473/473 [==============================] - 1s 2ms/step - loss: 118086.2266 - val_loss: 114053.0703\n",
            "Epoch 314/400\n",
            "473/473 [==============================] - 1s 2ms/step - loss: 117975.9219 - val_loss: 113990.4609\n",
            "Epoch 315/400\n",
            "473/473 [==============================] - 1s 2ms/step - loss: 118026.5156 - val_loss: 114015.5234\n",
            "Epoch 316/400\n",
            "473/473 [==============================] - 1s 2ms/step - loss: 118083.7422 - val_loss: 113871.9375\n",
            "Epoch 317/400\n",
            "473/473 [==============================] - 1s 2ms/step - loss: 118027.7578 - val_loss: 113939.6875\n",
            "Epoch 318/400\n",
            "473/473 [==============================] - 1s 2ms/step - loss: 118083.2188 - val_loss: 114130.0469\n",
            "Epoch 319/400\n",
            "473/473 [==============================] - 1s 2ms/step - loss: 118077.6172 - val_loss: 114105.8047\n",
            "Epoch 320/400\n",
            "473/473 [==============================] - 1s 2ms/step - loss: 118051.5469 - val_loss: 113898.7969\n",
            "Epoch 321/400\n",
            "473/473 [==============================] - 1s 2ms/step - loss: 117995.9062 - val_loss: 114042.6953\n",
            "Epoch 322/400\n",
            "473/473 [==============================] - 1s 2ms/step - loss: 118038.8984 - val_loss: 113935.4297\n",
            "Epoch 323/400\n",
            "473/473 [==============================] - 1s 2ms/step - loss: 118028.6484 - val_loss: 113892.7031\n",
            "Epoch 324/400\n",
            "473/473 [==============================] - 1s 2ms/step - loss: 118144.2891 - val_loss: 113964.2656\n",
            "Epoch 325/400\n",
            "473/473 [==============================] - 1s 2ms/step - loss: 118083.8594 - val_loss: 113979.7422\n",
            "Epoch 326/400\n",
            "473/473 [==============================] - 1s 2ms/step - loss: 118008.0156 - val_loss: 113867.2188\n",
            "Epoch 327/400\n",
            "473/473 [==============================] - 1s 2ms/step - loss: 118120.0781 - val_loss: 114003.9688\n",
            "Epoch 328/400\n",
            "473/473 [==============================] - 1s 2ms/step - loss: 118013.7031 - val_loss: 114057.8672\n",
            "Epoch 329/400\n",
            "473/473 [==============================] - 1s 2ms/step - loss: 118035.8750 - val_loss: 113939.2109\n",
            "Epoch 330/400\n",
            "473/473 [==============================] - 1s 2ms/step - loss: 118051.4219 - val_loss: 113920.3359\n",
            "Epoch 331/400\n",
            "473/473 [==============================] - 1s 2ms/step - loss: 118126.5625 - val_loss: 113939.5625\n",
            "Epoch 332/400\n",
            "473/473 [==============================] - 1s 2ms/step - loss: 118046.1406 - val_loss: 114011.1016\n",
            "Epoch 333/400\n",
            "473/473 [==============================] - 1s 2ms/step - loss: 118076.2344 - val_loss: 113999.2109\n",
            "Epoch 334/400\n",
            "473/473 [==============================] - 1s 2ms/step - loss: 118066.5547 - val_loss: 113960.4453\n",
            "Epoch 335/400\n",
            "473/473 [==============================] - 1s 2ms/step - loss: 118092.2578 - val_loss: 114777.1328\n",
            "Epoch 336/400\n",
            "473/473 [==============================] - 1s 3ms/step - loss: 118152.7344 - val_loss: 114114.2188\n",
            "Epoch 337/400\n",
            "473/473 [==============================] - 1s 3ms/step - loss: 118070.4141 - val_loss: 113934.0469\n",
            "Epoch 338/400\n",
            "473/473 [==============================] - 1s 2ms/step - loss: 118023.3203 - val_loss: 114022.6797\n",
            "Epoch 339/400\n",
            "473/473 [==============================] - 1s 2ms/step - loss: 118065.0312 - val_loss: 113917.8984\n",
            "Epoch 340/400\n",
            "473/473 [==============================] - 1s 3ms/step - loss: 118092.7031 - val_loss: 113994.2422\n",
            "Epoch 341/400\n",
            "473/473 [==============================] - 1s 3ms/step - loss: 118013.5625 - val_loss: 114558.9609\n",
            "Epoch 342/400\n",
            "473/473 [==============================] - 1s 2ms/step - loss: 118089.3672 - val_loss: 114198.8047\n",
            "Epoch 343/400\n",
            "473/473 [==============================] - 1s 2ms/step - loss: 118145.6484 - val_loss: 113901.5469\n",
            "Epoch 344/400\n",
            "473/473 [==============================] - 1s 2ms/step - loss: 118126.6094 - val_loss: 114082.3672\n",
            "Epoch 345/400\n",
            "473/473 [==============================] - 1s 2ms/step - loss: 118048.6094 - val_loss: 114012.6484\n",
            "Epoch 346/400\n",
            "473/473 [==============================] - 1s 3ms/step - loss: 118112.1484 - val_loss: 114604.2266\n",
            "Epoch 347/400\n",
            "473/473 [==============================] - 1s 3ms/step - loss: 118088.9844 - val_loss: 114098.9531\n",
            "Epoch 348/400\n",
            "473/473 [==============================] - 1s 2ms/step - loss: 118011.7266 - val_loss: 114286.9766\n",
            "Epoch 349/400\n",
            "473/473 [==============================] - 1s 2ms/step - loss: 118090.9297 - val_loss: 114021.6016\n",
            "Epoch 350/400\n",
            "473/473 [==============================] - 1s 2ms/step - loss: 118042.1875 - val_loss: 113947.3750\n",
            "Epoch 351/400\n",
            "473/473 [==============================] - 1s 3ms/step - loss: 118102.7031 - val_loss: 114304.1406\n",
            "Epoch 352/400\n",
            "473/473 [==============================] - 1s 2ms/step - loss: 118188.3125 - val_loss: 114123.2500\n",
            "Epoch 353/400\n",
            "473/473 [==============================] - 1s 3ms/step - loss: 118158.2500 - val_loss: 113906.8672\n",
            "Epoch 354/400\n",
            "473/473 [==============================] - 1s 2ms/step - loss: 118085.0625 - val_loss: 113972.6094\n",
            "Epoch 355/400\n",
            "473/473 [==============================] - 1s 2ms/step - loss: 118043.5234 - val_loss: 113980.7422\n",
            "Epoch 356/400\n",
            "473/473 [==============================] - 1s 3ms/step - loss: 118102.4219 - val_loss: 114009.4688\n",
            "Epoch 357/400\n",
            "473/473 [==============================] - 1s 2ms/step - loss: 118133.3750 - val_loss: 114068.7031\n",
            "Epoch 358/400\n",
            "473/473 [==============================] - 1s 2ms/step - loss: 118009.3125 - val_loss: 114741.4453\n",
            "Epoch 359/400\n",
            "473/473 [==============================] - 1s 3ms/step - loss: 118097.7891 - val_loss: 114601.6094\n",
            "Epoch 360/400\n",
            "473/473 [==============================] - 1s 2ms/step - loss: 118040.0469 - val_loss: 114259.6250\n",
            "Epoch 361/400\n",
            "473/473 [==============================] - 1s 3ms/step - loss: 118091.2188 - val_loss: 114053.1562\n",
            "Epoch 362/400\n",
            "473/473 [==============================] - 1s 2ms/step - loss: 118045.1172 - val_loss: 114689.6172\n",
            "Epoch 363/400\n",
            "473/473 [==============================] - 1s 2ms/step - loss: 117985.4688 - val_loss: 113859.6250\n",
            "Epoch 364/400\n",
            "473/473 [==============================] - 1s 3ms/step - loss: 118047.1797 - val_loss: 113969.6484\n",
            "Epoch 365/400\n",
            "473/473 [==============================] - 1s 3ms/step - loss: 118061.4531 - val_loss: 114208.2109\n",
            "Epoch 366/400\n",
            "473/473 [==============================] - 1s 2ms/step - loss: 118089.2266 - val_loss: 114108.4531\n",
            "Epoch 367/400\n",
            "473/473 [==============================] - 1s 2ms/step - loss: 118100.9219 - val_loss: 113921.9531\n",
            "Epoch 368/400\n",
            "473/473 [==============================] - 1s 2ms/step - loss: 118014.8203 - val_loss: 114621.2344\n",
            "Epoch 369/400\n",
            "473/473 [==============================] - 1s 2ms/step - loss: 118038.8359 - val_loss: 113902.0156\n",
            "Epoch 370/400\n",
            "473/473 [==============================] - 1s 3ms/step - loss: 118013.1250 - val_loss: 114162.0156\n",
            "Epoch 371/400\n",
            "473/473 [==============================] - 1s 2ms/step - loss: 118044.8359 - val_loss: 113940.1406\n",
            "Epoch 372/400\n",
            "473/473 [==============================] - 1s 3ms/step - loss: 118018.7500 - val_loss: 113939.4688\n",
            "Epoch 373/400\n",
            "473/473 [==============================] - 1s 2ms/step - loss: 118127.8750 - val_loss: 113951.4297\n",
            "Epoch 374/400\n",
            "473/473 [==============================] - 1s 2ms/step - loss: 118021.2812 - val_loss: 114013.2422\n",
            "Epoch 375/400\n",
            "473/473 [==============================] - 1s 3ms/step - loss: 118058.4766 - val_loss: 114087.6250\n",
            "Epoch 376/400\n",
            "473/473 [==============================] - 1s 3ms/step - loss: 118040.3047 - val_loss: 113978.1016\n",
            "Epoch 377/400\n",
            "473/473 [==============================] - 1s 3ms/step - loss: 118157.4141 - val_loss: 113913.3438\n",
            "Epoch 378/400\n",
            "473/473 [==============================] - 1s 3ms/step - loss: 117950.9297 - val_loss: 114188.7422\n",
            "Epoch 379/400\n",
            "473/473 [==============================] - 1s 3ms/step - loss: 118037.6016 - val_loss: 114355.8438\n",
            "Epoch 380/400\n",
            "473/473 [==============================] - 1s 2ms/step - loss: 118048.1641 - val_loss: 114548.6484\n",
            "Epoch 381/400\n",
            "473/473 [==============================] - 1s 3ms/step - loss: 118160.1016 - val_loss: 113954.6641\n",
            "Epoch 382/400\n",
            "473/473 [==============================] - 1s 2ms/step - loss: 118104.8828 - val_loss: 113921.1328\n",
            "Epoch 383/400\n",
            "473/473 [==============================] - 1s 3ms/step - loss: 118046.8281 - val_loss: 113937.6562\n",
            "Epoch 384/400\n",
            "473/473 [==============================] - 1s 3ms/step - loss: 118044.5156 - val_loss: 114012.5000\n",
            "Epoch 385/400\n",
            "473/473 [==============================] - 1s 2ms/step - loss: 118043.7266 - val_loss: 114258.5859\n",
            "Epoch 386/400\n",
            "473/473 [==============================] - 1s 3ms/step - loss: 118109.8672 - val_loss: 113927.9375\n",
            "Epoch 387/400\n",
            "473/473 [==============================] - 1s 3ms/step - loss: 118051.6172 - val_loss: 113911.7266\n",
            "Epoch 388/400\n",
            "473/473 [==============================] - 1s 2ms/step - loss: 118088.3203 - val_loss: 113917.8359\n",
            "Epoch 389/400\n",
            "473/473 [==============================] - 1s 3ms/step - loss: 118071.1406 - val_loss: 113894.2891\n",
            "Epoch 390/400\n",
            "473/473 [==============================] - 1s 2ms/step - loss: 118028.5938 - val_loss: 114058.8438\n",
            "Epoch 391/400\n",
            "473/473 [==============================] - 1s 3ms/step - loss: 118027.7344 - val_loss: 114228.5547\n",
            "Epoch 392/400\n",
            "473/473 [==============================] - 1s 2ms/step - loss: 118160.2812 - val_loss: 113932.5859\n",
            "Epoch 393/400\n",
            "473/473 [==============================] - 1s 3ms/step - loss: 118094.0781 - val_loss: 114054.5156\n",
            "Epoch 394/400\n",
            "473/473 [==============================] - 1s 3ms/step - loss: 118064.6719 - val_loss: 113947.0781\n",
            "Epoch 395/400\n",
            "473/473 [==============================] - 1s 2ms/step - loss: 118082.1406 - val_loss: 114080.2188\n",
            "Epoch 396/400\n",
            "473/473 [==============================] - 1s 3ms/step - loss: 118055.7734 - val_loss: 113983.7031\n",
            "Epoch 397/400\n",
            "473/473 [==============================] - 1s 2ms/step - loss: 118039.5312 - val_loss: 113897.2031\n",
            "Epoch 398/400\n",
            "473/473 [==============================] - 1s 3ms/step - loss: 118028.0312 - val_loss: 113937.9375\n",
            "Epoch 399/400\n",
            "473/473 [==============================] - 1s 2ms/step - loss: 118170.0000 - val_loss: 114056.1484\n",
            "Epoch 400/400\n",
            "473/473 [==============================] - 1s 2ms/step - loss: 118009.6562 - val_loss: 114151.4297\n"
          ]
        },
        {
          "output_type": "execute_result",
          "data": {
            "text/plain": [
              "<keras.callbacks.History at 0x7f8103d503d0>"
            ]
          },
          "metadata": {},
          "execution_count": 18
        }
      ]
    },
    {
      "cell_type": "code",
      "metadata": {
        "id": "kouClxm8ib-f"
      },
      "source": [
        "losses=pd.DataFrame(model.history.history) # Gives history of all the losses # Checking the losses and comparing with the val_data loss we can check overfitting of the data"
      ],
      "execution_count": 19,
      "outputs": []
    },
    {
      "cell_type": "markdown",
      "source": [
        "### Plotting training and test loss to check overfit or underfit"
      ],
      "metadata": {
        "id": "esbHC2dKsyYz"
      }
    },
    {
      "cell_type": "code",
      "metadata": {
        "colab": {
          "base_uri": "https://localhost:8080/",
          "height": 300
        },
        "id": "U9HjSUNIldr8",
        "outputId": "70781fc9-436d-4d6c-c3e3-1e5001eadc93"
      },
      "source": [
        "plt.figure(figsize=(22,10))\n",
        "losses.plot()   # we could continue training, if there is increase in val_loss then it will be overfitting"
      ],
      "execution_count": 20,
      "outputs": [
        {
          "output_type": "execute_result",
          "data": {
            "text/plain": [
              "<matplotlib.axes._subplots.AxesSubplot at 0x7f8100565b10>"
            ]
          },
          "metadata": {},
          "execution_count": 20
        },
        {
          "output_type": "display_data",
          "data": {
            "text/plain": [
              "<Figure size 1584x720 with 0 Axes>"
            ]
          },
          "metadata": {}
        },
        {
          "output_type": "display_data",
          "data": {
            "image/png": "[encoded data removed]",
            "text/plain": [
              "<Figure size 432x288 with 1 Axes>"
            ]
          },
          "metadata": {
            "needs_background": "light"
          }
        }
      ]
    },
    {
      "cell_type": "markdown",
      "source": [
        "### Evaluating the model "
      ],
      "metadata": {
        "id": "Vmh0gDfBs7Sg"
      }
    },
    {
      "cell_type": "code",
      "metadata": {
        "id": "kkeDqu-WnTTp"
      },
      "source": [
        "from sklearn.metrics import mean_absolute_error, mean_squared_error, explained_variance_score"
      ],
      "execution_count": 21,
      "outputs": []
    },
    {
      "cell_type": "code",
      "metadata": {
        "id": "Foq8re5jod94"
      },
      "source": [
        "predictions=model.predict(X_test)"
      ],
      "execution_count": 22,
      "outputs": []
    },
    {
      "cell_type": "code",
      "metadata": {
        "colab": {
          "base_uri": "https://localhost:8080/"
        },
        "id": "3fM3y1y_ohWl",
        "outputId": "7be14e74-be1c-40d6-c93c-ff32abe39af9"
      },
      "source": [
        "mean_absolute_error(predictions,y_test)"
      ],
      "execution_count": 23,
      "outputs": [
        {
          "output_type": "execute_result",
          "data": {
            "text/plain": [
              "114151.42459731868"
            ]
          },
          "metadata": {},
          "execution_count": 23
        }
      ]
    },
    {
      "cell_type": "code",
      "metadata": {
        "colab": {
          "base_uri": "https://localhost:8080/"
        },
        "id": "CAn9GfDMo8Fv",
        "outputId": "ae96d23f-3a87-481f-81c8-ebbc46a21252"
      },
      "source": [
        "df['price'].mean() # Seeing the previous cell and comparing with the mean price of the house we get to know that prediction model is not upto to the standard"
      ],
      "execution_count": 24,
      "outputs": [
        {
          "output_type": "execute_result",
          "data": {
            "text/plain": [
              "540296.5735055795"
            ]
          },
          "metadata": {},
          "execution_count": 24
        }
      ]
    },
    {
      "cell_type": "code",
      "metadata": {
        "colab": {
          "base_uri": "https://localhost:8080/"
        },
        "id": "W9259OFDqDFj",
        "outputId": "778a0ce4-eed1-4d22-ac80-5f89c83507ad"
      },
      "source": [
        "explained_variance_score(y_test,predictions)"
      ],
      "execution_count": 25,
      "outputs": [
        {
          "output_type": "execute_result",
          "data": {
            "text/plain": [
              "0.6596124021590883"
            ]
          },
          "metadata": {},
          "execution_count": 25
        }
      ]
    },
    {
      "cell_type": "markdown",
      "source": [
        "### Scatter plot to check prdictions with actual labelled output"
      ],
      "metadata": {
        "id": "_tVqbRqut4_y"
      }
    },
    {
      "cell_type": "code",
      "metadata": {
        "colab": {
          "base_uri": "https://localhost:8080/",
          "height": 306
        },
        "id": "AsvsjD3UqpO3",
        "outputId": "8712c19a-bf61-49d0-8680-60d613f65742"
      },
      "source": [
        "plt.scatter(y_test,predictions)\n",
        "plt.plot(y_test,y_test,'r')\n",
        "# This shows that the outliers have hurt the model predictions thats why prediction were off and we could observe that house below 3 Lac our predictions were very good"
      ],
      "execution_count": 26,
      "outputs": [
        {
          "output_type": "execute_result",
          "data": {
            "text/plain": [
              "[<matplotlib.lines.Line2D at 0x7f8103bfd510>]"
            ]
          },
          "metadata": {},
          "execution_count": 26
        },
        {
          "output_type": "display_data",
          "data": {
            "image/png": "[encoded data removed]",
            "text/plain": [
              "<Figure size 432x288 with 1 Axes>"
            ]
          },
          "metadata": {
            "needs_background": "light"
          }
        }
      ]
    },
    {
      "cell_type": "code",
      "metadata": {
        "id": "FyM3W5yAr-NM",
        "colab": {
          "base_uri": "https://localhost:8080/"
        },
        "outputId": "f72ea3fe-baff-4b17-f4ce-e22d19011a06"
      },
      "source": [
        "# prediction on new house\n",
        "single_house=df.drop('price',axis=1).iloc[0] # getting single row of your data andf predicting\n",
        "single_house=single_house.drop(labels=['id', 'zipcode','date'])\n",
        "single_house"
      ],
      "execution_count": 27,
      "outputs": [
        {
          "output_type": "execute_result",
          "data": {
            "text/plain": [
              "bedrooms               3\n",
              "bathrooms            1.0\n",
              "sqft_living         1180\n",
              "sqft_lot            5650\n",
              "floors               1.0\n",
              "waterfront             0\n",
              "view                   0\n",
              "condition              3\n",
              "grade                  7\n",
              "sqft_above          1180\n",
              "sqft_basement          0\n",
              "yr_built            1955\n",
              "yr_renovated           0\n",
              "lat              47.5112\n",
              "long            -122.257\n",
              "sqft_living15       1340\n",
              "sqft_lot15          5650\n",
              "year                2014\n",
              "month                 10\n",
              "Name: 0, dtype: object"
            ]
          },
          "metadata": {},
          "execution_count": 27
        }
      ]
    },
    {
      "cell_type": "code",
      "metadata": {
        "id": "6B3t45thtLHM"
      },
      "source": [
        "#single_house=single_house.values . This is done to convert to numpy array as model takes in arrays only\n",
        "single_house1=scaler.transform(single_house.values.reshape(-1,19))"
      ],
      "execution_count": 28,
      "outputs": []
    },
    {
      "cell_type": "code",
      "metadata": {
        "colab": {
          "base_uri": "https://localhost:8080/"
        },
        "id": "OkG4dzB4tN88",
        "outputId": "e29ab4f3-fd73-4500-d405-d887394ba05d"
      },
      "source": [
        "model.predict(single_house1)"
      ],
      "execution_count": 29,
      "outputs": [
        {
          "output_type": "execute_result",
          "data": {
            "text/plain": [
              "array([[268033.4]], dtype=float32)"
            ]
          },
          "metadata": {},
          "execution_count": 29
        }
      ]
    },
    {
      "cell_type": "code",
      "metadata": {
        "id": "tVWA9pup3JDf"
      },
      "source": [
        ""
      ],
      "execution_count": 29,
      "outputs": []
    }
  ]
}